{
 "cells": [
  {
   "cell_type": "code",
   "execution_count": 5,
   "metadata": {
    "id": "1hmJiwPg5epO"
   },
   "outputs": [],
   "source": [
    "import pandas as pd\n",
    "from nltk import re\n",
    "import numpy as np\n",
    "import keras.layers\n",
    "from sklearn.feature_extraction.text import CountVectorizer\n",
    "from keras.preprocessing.text import Tokenizer\n",
    "from keras.preprocessing.sequence import pad_sequences\n",
    "from keras.layers import Dense, Input, LSTM, Embedding, Dropout, Bidirectional, GlobalAveragePooling1D, GlobalMaxPooling1D, Conv1D, Activation\n",
    "from keras.layers.merge import concatenate\n",
    "from keras.models import Model\n",
    "from keras.layers.normalization import BatchNormalization\n",
    "from keras.callbacks import EarlyStopping, ModelCheckpoint\n",
    "import tensorflow as tf\n",
    "import html\n",
    "import string\n",
    "import time\n",
    "import nltk\n",
    "from keras.callbacks import EarlyStopping,TensorBoard,ModelCheckpoint\n",
    "import seaborn as sns"
   ]
  },
  {
   "cell_type": "code",
   "execution_count": 3,
   "metadata": {
    "colab": {
     "base_uri": "https://localhost:8080/",
     "height": 511
    },
    "id": "Bgw931RT55-3",
    "outputId": "0163eafb-d2ff-404b-8810-29062861353c"
   },
   "outputs": [],
   "source": [
    "import csv\n",
    "df = pd.read_csv('Cleaned_Depression_Vs_Suicide.csv', lineterminator = '\\n')"
   ]
  },
  {
   "cell_type": "code",
   "execution_count": 3,
   "metadata": {
    "id": "Py49Fdht6ErU"
   },
   "outputs": [
    {
     "data": {
      "text/html": [
       "<div>\n",
       "<style scoped>\n",
       "    .dataframe tbody tr th:only-of-type {\n",
       "        vertical-align: middle;\n",
       "    }\n",
       "\n",
       "    .dataframe tbody tr th {\n",
       "        vertical-align: top;\n",
       "    }\n",
       "\n",
       "    .dataframe thead th {\n",
       "        text-align: right;\n",
       "    }\n",
       "</style>\n",
       "<table border=\"1\" class=\"dataframe\">\n",
       "  <thead>\n",
       "    <tr style=\"text-align: right;\">\n",
       "      <th></th>\n",
       "      <th>text</th>\n",
       "      <th>class</th>\n",
       "    </tr>\n",
       "  </thead>\n",
       "  <tbody>\n",
       "    <tr>\n",
       "      <th>0</th>\n",
       "      <td>Feeling a bit depressedI've been in a big low ...</td>\n",
       "      <td>SuicideWatch</td>\n",
       "    </tr>\n",
       "    <tr>\n",
       "      <th>1</th>\n",
       "      <td>Was going to hang myself but didn't have guts ...</td>\n",
       "      <td>SuicideWatch</td>\n",
       "    </tr>\n",
       "    <tr>\n",
       "      <th>2</th>\n",
       "      <td>Have you ever maintained a poor friendship jus...</td>\n",
       "      <td>depression</td>\n",
       "    </tr>\n",
       "    <tr>\n",
       "      <th>3</th>\n",
       "      <td>I haven't felt positive feelings in a long tim...</td>\n",
       "      <td>depression</td>\n",
       "    </tr>\n",
       "    <tr>\n",
       "      <th>4</th>\n",
       "      <td>Partners of those who suffer from depression; ...</td>\n",
       "      <td>depression</td>\n",
       "    </tr>\n",
       "    <tr>\n",
       "      <th>...</th>\n",
       "      <td>...</td>\n",
       "      <td>...</td>\n",
       "    </tr>\n",
       "    <tr>\n",
       "      <th>609767</th>\n",
       "      <td>They all hate meI feel like everything I say a...</td>\n",
       "      <td>SuicideWatch</td>\n",
       "    </tr>\n",
       "    <tr>\n",
       "      <th>609768</th>\n",
       "      <td>Just need to vent.I'm not going to lie I have ...</td>\n",
       "      <td>depression</td>\n",
       "    </tr>\n",
       "    <tr>\n",
       "      <th>609769</th>\n",
       "      <td>I promised myself I wouldn’t go through with i...</td>\n",
       "      <td>SuicideWatch</td>\n",
       "    </tr>\n",
       "    <tr>\n",
       "      <th>609770</th>\n",
       "      <td>Getting off of anti-deprssantsI've been taking...</td>\n",
       "      <td>depression</td>\n",
       "    </tr>\n",
       "    <tr>\n",
       "      <th>609771</th>\n",
       "      <td>DAE have intense orgasms while on anti-depress...</td>\n",
       "      <td>depression</td>\n",
       "    </tr>\n",
       "  </tbody>\n",
       "</table>\n",
       "<p>609772 rows × 2 columns</p>\n",
       "</div>"
      ],
      "text/plain": [
       "                                                     text         class\n",
       "0       Feeling a bit depressedI've been in a big low ...  SuicideWatch\n",
       "1       Was going to hang myself but didn't have guts ...  SuicideWatch\n",
       "2       Have you ever maintained a poor friendship jus...    depression\n",
       "3       I haven't felt positive feelings in a long tim...    depression\n",
       "4       Partners of those who suffer from depression; ...    depression\n",
       "...                                                   ...           ...\n",
       "609767  They all hate meI feel like everything I say a...  SuicideWatch\n",
       "609768  Just need to vent.I'm not going to lie I have ...    depression\n",
       "609769  I promised myself I wouldn’t go through with i...  SuicideWatch\n",
       "609770  Getting off of anti-deprssantsI've been taking...    depression\n",
       "609771  DAE have intense orgasms while on anti-depress...    depression\n",
       "\n",
       "[609772 rows x 2 columns]"
      ]
     },
     "execution_count": 3,
     "metadata": {},
     "output_type": "execute_result"
    }
   ],
   "source": [
    "df"
   ]
  },
  {
   "cell_type": "code",
   "execution_count": 4,
   "metadata": {
    "id": "NyRCTYG46alx"
   },
   "outputs": [],
   "source": [
    "df.dropna(axis=0,inplace=True)"
   ]
  },
  {
   "cell_type": "code",
   "execution_count": 5,
   "metadata": {
    "id": "mjdbGDa56oGB"
   },
   "outputs": [
    {
     "data": {
      "text/plain": [
       "text     0\n",
       "class    0\n",
       "dtype: int64"
      ]
     },
     "execution_count": 5,
     "metadata": {},
     "output_type": "execute_result"
    }
   ],
   "source": [
    "df.isnull().sum()"
   ]
  },
  {
   "cell_type": "code",
   "execution_count": 6,
   "metadata": {},
   "outputs": [
    {
     "data": {
      "text/html": [
       "<div>\n",
       "<style scoped>\n",
       "    .dataframe tbody tr th:only-of-type {\n",
       "        vertical-align: middle;\n",
       "    }\n",
       "\n",
       "    .dataframe tbody tr th {\n",
       "        vertical-align: top;\n",
       "    }\n",
       "\n",
       "    .dataframe thead th {\n",
       "        text-align: right;\n",
       "    }\n",
       "</style>\n",
       "<table border=\"1\" class=\"dataframe\">\n",
       "  <thead>\n",
       "    <tr style=\"text-align: right;\">\n",
       "      <th></th>\n",
       "      <th>text</th>\n",
       "      <th>class</th>\n",
       "    </tr>\n",
       "  </thead>\n",
       "  <tbody>\n",
       "    <tr>\n",
       "      <th>count</th>\n",
       "      <td>609772</td>\n",
       "      <td>609772</td>\n",
       "    </tr>\n",
       "    <tr>\n",
       "      <th>unique</th>\n",
       "      <td>609772</td>\n",
       "      <td>2</td>\n",
       "    </tr>\n",
       "    <tr>\n",
       "      <th>top</th>\n",
       "      <td>Need some advice.  I'm not suicidal, but someo...</td>\n",
       "      <td>SuicideWatch</td>\n",
       "    </tr>\n",
       "    <tr>\n",
       "      <th>freq</th>\n",
       "      <td>1</td>\n",
       "      <td>304886</td>\n",
       "    </tr>\n",
       "  </tbody>\n",
       "</table>\n",
       "</div>"
      ],
      "text/plain": [
       "                                                     text         class\n",
       "count                                              609772        609772\n",
       "unique                                             609772             2\n",
       "top     Need some advice.  I'm not suicidal, but someo...  SuicideWatch\n",
       "freq                                                    1        304886"
      ]
     },
     "execution_count": 6,
     "metadata": {},
     "output_type": "execute_result"
    }
   ],
   "source": [
    "df.describe() "
   ]
  },
  {
   "cell_type": "code",
   "execution_count": 7,
   "metadata": {
    "id": "9xQnB7-46qOz"
   },
   "outputs": [],
   "source": [
    "def convert_lower(text):\n",
    "    lower_text = text.lower()\n",
    "    return lower_text\n",
    "\n",
    "df[\"text\"] = df['text'].apply(lambda x: convert_lower(x))\n",
    "\n",
    "# removing punctuation\n",
    "\n",
    "def remove_punctuations(text):\n",
    "    for punctuation in string.punctuation:\n",
    "        text = text.replace(punctuation, '')\n",
    "    return text\n",
    "\n",
    "df[\"text\"] = df['text'].apply(remove_punctuations)\n",
    "\n",
    "# removing numbers\n",
    "\n",
    "df['text'] = df['text'].str.replace('\\d+', '')"
   ]
  },
  {
   "cell_type": "code",
   "execution_count": 8,
   "metadata": {
    "colab": {
     "base_uri": "https://localhost:8080/"
    },
    "id": "Sz-IGI2k7SXV",
    "outputId": "2eba4e6d-a831-41c8-f418-e83eed83eeef"
   },
   "outputs": [
    {
     "name": "stderr",
     "output_type": "stream",
     "text": [
      "[nltk_data] Downloading package punkt to C:\\Users\\Karthik Ram\n",
      "[nltk_data]     Srinivas\\AppData\\Roaming\\nltk_data...\n",
      "[nltk_data]   Package punkt is already up-to-date!\n"
     ]
    },
    {
     "data": {
      "text/plain": [
       "True"
      ]
     },
     "execution_count": 8,
     "metadata": {},
     "output_type": "execute_result"
    }
   ],
   "source": [
    "nltk.download('punkt')"
   ]
  },
  {
   "cell_type": "code",
   "execution_count": 9,
   "metadata": {
    "id": "jUUtvLXv6zh2"
   },
   "outputs": [],
   "source": [
    "#tokenization\n",
    "\n",
    "df['tokenized_text'] = df.apply(lambda row: nltk.word_tokenize(row['text']), axis=1)"
   ]
  },
  {
   "cell_type": "code",
   "execution_count": 10,
   "metadata": {
    "colab": {
     "base_uri": "https://localhost:8080/"
    },
    "id": "zjSJ83t67e87",
    "outputId": "7d3774ae-a7f7-4c26-bc43-e974e51bc143"
   },
   "outputs": [
    {
     "name": "stderr",
     "output_type": "stream",
     "text": [
      "[nltk_data] Downloading package stopwords to C:\\Users\\Karthik Ram\n",
      "[nltk_data]     Srinivas\\AppData\\Roaming\\nltk_data...\n",
      "[nltk_data]   Package stopwords is already up-to-date!\n"
     ]
    },
    {
     "data": {
      "text/plain": [
       "True"
      ]
     },
     "execution_count": 10,
     "metadata": {},
     "output_type": "execute_result"
    }
   ],
   "source": [
    "nltk.download('stopwords')"
   ]
  },
  {
   "cell_type": "code",
   "execution_count": 11,
   "metadata": {
    "id": "c4HCiU0R668E"
   },
   "outputs": [],
   "source": [
    "# removing stopwrods\n",
    "\n",
    "stopwords = nltk.corpus.stopwords.words(\"english\")\n",
    "\n",
    "def stopwords_remove(text):\n",
    "    text_cleaned = [word for word in text if word not in stopwords]\n",
    "    return text_cleaned\n",
    "\n",
    "df[\"tokenized_text\"] = df[\"tokenized_text\"].apply(lambda x: stopwords_remove(x))"
   ]
  },
  {
   "cell_type": "code",
   "execution_count": 12,
   "metadata": {
    "id": "E_AsoanW7aFw"
   },
   "outputs": [],
   "source": [
    "from nltk.stem.snowball import SnowballStemmer\n",
    "\n",
    "stemmer = SnowballStemmer(\"english\")\n",
    "\n",
    "df['stemmed'] = df['tokenized_text'].apply(lambda x: [stemmer.stem(y) for y in x])"
   ]
  },
  {
   "cell_type": "code",
   "execution_count": 13,
   "metadata": {
    "colab": {
     "base_uri": "https://localhost:8080/",
     "height": 564
    },
    "id": "s9sQr4jQ7m6Z",
    "outputId": "c746e874-4607-4d00-ee44-f114a74309da"
   },
   "outputs": [
    {
     "data": {
      "text/html": [
       "<div>\n",
       "<style scoped>\n",
       "    .dataframe tbody tr th:only-of-type {\n",
       "        vertical-align: middle;\n",
       "    }\n",
       "\n",
       "    .dataframe tbody tr th {\n",
       "        vertical-align: top;\n",
       "    }\n",
       "\n",
       "    .dataframe thead th {\n",
       "        text-align: right;\n",
       "    }\n",
       "</style>\n",
       "<table border=\"1\" class=\"dataframe\">\n",
       "  <thead>\n",
       "    <tr style=\"text-align: right;\">\n",
       "      <th></th>\n",
       "      <th>text</th>\n",
       "      <th>class</th>\n",
       "      <th>tokenized_text</th>\n",
       "      <th>stemmed</th>\n",
       "    </tr>\n",
       "  </thead>\n",
       "  <tbody>\n",
       "    <tr>\n",
       "      <th>0</th>\n",
       "      <td>feeling a bit depressedive been in a big low a...</td>\n",
       "      <td>SuicideWatch</td>\n",
       "      <td>[feeling, bit, depressedive, big, low, weekend...</td>\n",
       "      <td>[feel, bit, depressed, big, low, weekend, dont...</td>\n",
       "    </tr>\n",
       "    <tr>\n",
       "      <th>1</th>\n",
       "      <td>was going to hang myself but didnt have guts e...</td>\n",
       "      <td>SuicideWatch</td>\n",
       "      <td>[going, hang, didnt, guts, enough, kick, away,...</td>\n",
       "      <td>[go, hang, didnt, gut, enough, kick, away, cha...</td>\n",
       "    </tr>\n",
       "    <tr>\n",
       "      <th>2</th>\n",
       "      <td>have you ever maintained a poor friendship jus...</td>\n",
       "      <td>depression</td>\n",
       "      <td>[ever, maintained, poor, friendship, keep, las...</td>\n",
       "      <td>[ever, maintain, poor, friendship, keep, last,...</td>\n",
       "    </tr>\n",
       "    <tr>\n",
       "      <th>3</th>\n",
       "      <td>i havent felt positive feelings in a long time...</td>\n",
       "      <td>depression</td>\n",
       "      <td>[havent, felt, positive, feelings, long, time,...</td>\n",
       "      <td>[havent, felt, posit, feel, long, time, dont, ...</td>\n",
       "    </tr>\n",
       "    <tr>\n",
       "      <th>4</th>\n",
       "      <td>partners of those who suffer from depression h...</td>\n",
       "      <td>depression</td>\n",
       "      <td>[partners, suffer, depression, work, itmy, lon...</td>\n",
       "      <td>[partner, suffer, depress, work, itmi, long, t...</td>\n",
       "    </tr>\n",
       "    <tr>\n",
       "      <th>...</th>\n",
       "      <td>...</td>\n",
       "      <td>...</td>\n",
       "      <td>...</td>\n",
       "      <td>...</td>\n",
       "    </tr>\n",
       "    <tr>\n",
       "      <th>609767</th>\n",
       "      <td>they all hate mei feel like everything i say a...</td>\n",
       "      <td>SuicideWatch</td>\n",
       "      <td>[hate, mei, feel, like, everything, say, pushe...</td>\n",
       "      <td>[hate, mei, feel, like, everyth, say, push, pe...</td>\n",
       "    </tr>\n",
       "    <tr>\n",
       "      <th>609768</th>\n",
       "      <td>just need to ventim not going to lie i have ne...</td>\n",
       "      <td>depression</td>\n",
       "      <td>[need, ventim, going, lie, never, felt, low, l...</td>\n",
       "      <td>[need, ventim, go, lie, never, felt, low, life...</td>\n",
       "    </tr>\n",
       "    <tr>\n",
       "      <th>609769</th>\n",
       "      <td>i promised myself i wouldn’t go through with i...</td>\n",
       "      <td>SuicideWatch</td>\n",
       "      <td>[promised, ’, go, mom, dies, fucking, readyi, ...</td>\n",
       "      <td>[promis, ’, go, mom, die, fuck, readyi, want, ...</td>\n",
       "    </tr>\n",
       "    <tr>\n",
       "      <th>609770</th>\n",
       "      <td>getting off of antideprssantsive been taking c...</td>\n",
       "      <td>depression</td>\n",
       "      <td>[getting, antideprssantsive, taking, celexa, y...</td>\n",
       "      <td>[get, antideprssants, take, celexa, year, well...</td>\n",
       "    </tr>\n",
       "    <tr>\n",
       "      <th>609771</th>\n",
       "      <td>dae have intense orgasms while on antidepressa...</td>\n",
       "      <td>depression</td>\n",
       "      <td>[dae, intense, orgasms, antidepressantsafter, ...</td>\n",
       "      <td>[dae, intens, orgasm, antidepressantsaft, igno...</td>\n",
       "    </tr>\n",
       "  </tbody>\n",
       "</table>\n",
       "<p>609772 rows × 4 columns</p>\n",
       "</div>"
      ],
      "text/plain": [
       "                                                     text         class  \\\n",
       "0       feeling a bit depressedive been in a big low a...  SuicideWatch   \n",
       "1       was going to hang myself but didnt have guts e...  SuicideWatch   \n",
       "2       have you ever maintained a poor friendship jus...    depression   \n",
       "3       i havent felt positive feelings in a long time...    depression   \n",
       "4       partners of those who suffer from depression h...    depression   \n",
       "...                                                   ...           ...   \n",
       "609767  they all hate mei feel like everything i say a...  SuicideWatch   \n",
       "609768  just need to ventim not going to lie i have ne...    depression   \n",
       "609769  i promised myself i wouldn’t go through with i...  SuicideWatch   \n",
       "609770  getting off of antideprssantsive been taking c...    depression   \n",
       "609771  dae have intense orgasms while on antidepressa...    depression   \n",
       "\n",
       "                                           tokenized_text  \\\n",
       "0       [feeling, bit, depressedive, big, low, weekend...   \n",
       "1       [going, hang, didnt, guts, enough, kick, away,...   \n",
       "2       [ever, maintained, poor, friendship, keep, las...   \n",
       "3       [havent, felt, positive, feelings, long, time,...   \n",
       "4       [partners, suffer, depression, work, itmy, lon...   \n",
       "...                                                   ...   \n",
       "609767  [hate, mei, feel, like, everything, say, pushe...   \n",
       "609768  [need, ventim, going, lie, never, felt, low, l...   \n",
       "609769  [promised, ’, go, mom, dies, fucking, readyi, ...   \n",
       "609770  [getting, antideprssantsive, taking, celexa, y...   \n",
       "609771  [dae, intense, orgasms, antidepressantsafter, ...   \n",
       "\n",
       "                                                  stemmed  \n",
       "0       [feel, bit, depressed, big, low, weekend, dont...  \n",
       "1       [go, hang, didnt, gut, enough, kick, away, cha...  \n",
       "2       [ever, maintain, poor, friendship, keep, last,...  \n",
       "3       [havent, felt, posit, feel, long, time, dont, ...  \n",
       "4       [partner, suffer, depress, work, itmi, long, t...  \n",
       "...                                                   ...  \n",
       "609767  [hate, mei, feel, like, everyth, say, push, pe...  \n",
       "609768  [need, ventim, go, lie, never, felt, low, life...  \n",
       "609769  [promis, ’, go, mom, die, fuck, readyi, want, ...  \n",
       "609770  [get, antideprssants, take, celexa, year, well...  \n",
       "609771  [dae, intens, orgasm, antidepressantsaft, igno...  \n",
       "\n",
       "[609772 rows x 4 columns]"
      ]
     },
     "execution_count": 13,
     "metadata": {},
     "output_type": "execute_result"
    }
   ],
   "source": [
    "df"
   ]
  },
  {
   "cell_type": "code",
   "execution_count": 14,
   "metadata": {
    "id": "X8kq5DMN7uus"
   },
   "outputs": [],
   "source": [
    "input2_corrected = [\" \".join(x) for x in df['stemmed']]\n",
    "\n",
    "from sklearn.feature_extraction.text import TfidfVectorizer \n",
    "\n",
    "tfidf_vectorizer=TfidfVectorizer(use_idf=True) \n",
    " \n",
    "\n",
    "tfidf_vectorizer_vectors=tfidf_vectorizer.fit_transform(input2_corrected)"
   ]
  },
  {
   "cell_type": "code",
   "execution_count": 15,
   "metadata": {
    "colab": {
     "base_uri": "https://localhost:8080/"
    },
    "id": "cmsDHCST70dX",
    "outputId": "b88a26e4-3bb6-4ae5-f488-63964c63ffcd"
   },
   "outputs": [
    {
     "data": {
      "text/plain": [
       "<609772x395472 sparse matrix of type '<class 'numpy.float64'>'\n",
       "\twith 45764601 stored elements in Compressed Sparse Row format>"
      ]
     },
     "execution_count": 15,
     "metadata": {},
     "output_type": "execute_result"
    }
   ],
   "source": [
    "tfidf_vectorizer_vectors"
   ]
  },
  {
   "cell_type": "code",
   "execution_count": 16,
   "metadata": {
    "id": "3IYh7ODF76L_"
   },
   "outputs": [],
   "source": [
    "def dummies(x):\n",
    "    if x == 'SuicideWatch':\n",
    "        return 1\n",
    "    if x == 'depression':\n",
    "        return 2\n",
    "\n",
    "df['class'] = df['class'].apply(lambda x: dummies(x))"
   ]
  },
  {
   "cell_type": "code",
   "execution_count": 17,
   "metadata": {
    "id": "GsFie9Cf79Fv"
   },
   "outputs": [],
   "source": [
    "from sklearn.model_selection import train_test_split\n",
    "X_train, X_test, y_train, y_test = train_test_split(tfidf_vectorizer_vectors, df['class'], test_size=0.3, random_state=101)"
   ]
  },
  {
   "cell_type": "code",
   "execution_count": 18,
   "metadata": {
    "colab": {
     "base_uri": "https://localhost:8080/",
     "height": 513
    },
    "id": "ewcbP5Su8Inv",
    "outputId": "c2eb33ce-0e24-472b-b713-8da5c1df5f89"
   },
   "outputs": [
    {
     "data": {
      "text/html": [
       "<div>\n",
       "<style scoped>\n",
       "    .dataframe tbody tr th:only-of-type {\n",
       "        vertical-align: middle;\n",
       "    }\n",
       "\n",
       "    .dataframe tbody tr th {\n",
       "        vertical-align: top;\n",
       "    }\n",
       "\n",
       "    .dataframe thead th {\n",
       "        text-align: right;\n",
       "    }\n",
       "</style>\n",
       "<table border=\"1\" class=\"dataframe\">\n",
       "  <thead>\n",
       "    <tr style=\"text-align: right;\">\n",
       "      <th></th>\n",
       "      <th>text</th>\n",
       "      <th>class</th>\n",
       "      <th>tokenized_text</th>\n",
       "      <th>stemmed</th>\n",
       "    </tr>\n",
       "  </thead>\n",
       "  <tbody>\n",
       "    <tr>\n",
       "      <th>0</th>\n",
       "      <td>feeling a bit depressedive been in a big low a...</td>\n",
       "      <td>1</td>\n",
       "      <td>[feeling, bit, depressedive, big, low, weekend...</td>\n",
       "      <td>[feel, bit, depressed, big, low, weekend, dont...</td>\n",
       "    </tr>\n",
       "    <tr>\n",
       "      <th>1</th>\n",
       "      <td>was going to hang myself but didnt have guts e...</td>\n",
       "      <td>1</td>\n",
       "      <td>[going, hang, didnt, guts, enough, kick, away,...</td>\n",
       "      <td>[go, hang, didnt, gut, enough, kick, away, cha...</td>\n",
       "    </tr>\n",
       "    <tr>\n",
       "      <th>2</th>\n",
       "      <td>have you ever maintained a poor friendship jus...</td>\n",
       "      <td>2</td>\n",
       "      <td>[ever, maintained, poor, friendship, keep, las...</td>\n",
       "      <td>[ever, maintain, poor, friendship, keep, last,...</td>\n",
       "    </tr>\n",
       "    <tr>\n",
       "      <th>3</th>\n",
       "      <td>i havent felt positive feelings in a long time...</td>\n",
       "      <td>2</td>\n",
       "      <td>[havent, felt, positive, feelings, long, time,...</td>\n",
       "      <td>[havent, felt, posit, feel, long, time, dont, ...</td>\n",
       "    </tr>\n",
       "    <tr>\n",
       "      <th>4</th>\n",
       "      <td>partners of those who suffer from depression h...</td>\n",
       "      <td>2</td>\n",
       "      <td>[partners, suffer, depression, work, itmy, lon...</td>\n",
       "      <td>[partner, suffer, depress, work, itmi, long, t...</td>\n",
       "    </tr>\n",
       "    <tr>\n",
       "      <th>...</th>\n",
       "      <td>...</td>\n",
       "      <td>...</td>\n",
       "      <td>...</td>\n",
       "      <td>...</td>\n",
       "    </tr>\n",
       "    <tr>\n",
       "      <th>609767</th>\n",
       "      <td>they all hate mei feel like everything i say a...</td>\n",
       "      <td>1</td>\n",
       "      <td>[hate, mei, feel, like, everything, say, pushe...</td>\n",
       "      <td>[hate, mei, feel, like, everyth, say, push, pe...</td>\n",
       "    </tr>\n",
       "    <tr>\n",
       "      <th>609768</th>\n",
       "      <td>just need to ventim not going to lie i have ne...</td>\n",
       "      <td>2</td>\n",
       "      <td>[need, ventim, going, lie, never, felt, low, l...</td>\n",
       "      <td>[need, ventim, go, lie, never, felt, low, life...</td>\n",
       "    </tr>\n",
       "    <tr>\n",
       "      <th>609769</th>\n",
       "      <td>i promised myself i wouldn’t go through with i...</td>\n",
       "      <td>1</td>\n",
       "      <td>[promised, ’, go, mom, dies, fucking, readyi, ...</td>\n",
       "      <td>[promis, ’, go, mom, die, fuck, readyi, want, ...</td>\n",
       "    </tr>\n",
       "    <tr>\n",
       "      <th>609770</th>\n",
       "      <td>getting off of antideprssantsive been taking c...</td>\n",
       "      <td>2</td>\n",
       "      <td>[getting, antideprssantsive, taking, celexa, y...</td>\n",
       "      <td>[get, antideprssants, take, celexa, year, well...</td>\n",
       "    </tr>\n",
       "    <tr>\n",
       "      <th>609771</th>\n",
       "      <td>dae have intense orgasms while on antidepressa...</td>\n",
       "      <td>2</td>\n",
       "      <td>[dae, intense, orgasms, antidepressantsafter, ...</td>\n",
       "      <td>[dae, intens, orgasm, antidepressantsaft, igno...</td>\n",
       "    </tr>\n",
       "  </tbody>\n",
       "</table>\n",
       "<p>609772 rows × 4 columns</p>\n",
       "</div>"
      ],
      "text/plain": [
       "                                                     text  class  \\\n",
       "0       feeling a bit depressedive been in a big low a...      1   \n",
       "1       was going to hang myself but didnt have guts e...      1   \n",
       "2       have you ever maintained a poor friendship jus...      2   \n",
       "3       i havent felt positive feelings in a long time...      2   \n",
       "4       partners of those who suffer from depression h...      2   \n",
       "...                                                   ...    ...   \n",
       "609767  they all hate mei feel like everything i say a...      1   \n",
       "609768  just need to ventim not going to lie i have ne...      2   \n",
       "609769  i promised myself i wouldn’t go through with i...      1   \n",
       "609770  getting off of antideprssantsive been taking c...      2   \n",
       "609771  dae have intense orgasms while on antidepressa...      2   \n",
       "\n",
       "                                           tokenized_text  \\\n",
       "0       [feeling, bit, depressedive, big, low, weekend...   \n",
       "1       [going, hang, didnt, guts, enough, kick, away,...   \n",
       "2       [ever, maintained, poor, friendship, keep, las...   \n",
       "3       [havent, felt, positive, feelings, long, time,...   \n",
       "4       [partners, suffer, depression, work, itmy, lon...   \n",
       "...                                                   ...   \n",
       "609767  [hate, mei, feel, like, everything, say, pushe...   \n",
       "609768  [need, ventim, going, lie, never, felt, low, l...   \n",
       "609769  [promised, ’, go, mom, dies, fucking, readyi, ...   \n",
       "609770  [getting, antideprssantsive, taking, celexa, y...   \n",
       "609771  [dae, intense, orgasms, antidepressantsafter, ...   \n",
       "\n",
       "                                                  stemmed  \n",
       "0       [feel, bit, depressed, big, low, weekend, dont...  \n",
       "1       [go, hang, didnt, gut, enough, kick, away, cha...  \n",
       "2       [ever, maintain, poor, friendship, keep, last,...  \n",
       "3       [havent, felt, posit, feel, long, time, dont, ...  \n",
       "4       [partner, suffer, depress, work, itmi, long, t...  \n",
       "...                                                   ...  \n",
       "609767  [hate, mei, feel, like, everyth, say, push, pe...  \n",
       "609768  [need, ventim, go, lie, never, felt, low, life...  \n",
       "609769  [promis, ’, go, mom, die, fuck, readyi, want, ...  \n",
       "609770  [get, antideprssants, take, celexa, year, well...  \n",
       "609771  [dae, intens, orgasm, antidepressantsaft, igno...  \n",
       "\n",
       "[609772 rows x 4 columns]"
      ]
     },
     "execution_count": 18,
     "metadata": {},
     "output_type": "execute_result"
    }
   ],
   "source": [
    "df"
   ]
  },
  {
   "cell_type": "code",
   "execution_count": 19,
   "metadata": {
    "id": "cWFD3xku8F2F"
   },
   "outputs": [],
   "source": [
    "from sklearn.linear_model import LogisticRegression\n",
    "lr = LogisticRegression(solver='sag')\n",
    "\n",
    "lr.fit(X_train,y_train)\n",
    "logistic_predictions = lr.predict(X_test)"
   ]
  },
  {
   "cell_type": "code",
   "execution_count": 20,
   "metadata": {
    "colab": {
     "base_uri": "https://localhost:8080/"
    },
    "id": "VOtzpkm_8cs6",
    "outputId": "6e30d20a-f9e9-4a6f-8479-30e38644a0e5"
   },
   "outputs": [
    {
     "name": "stdout",
     "output_type": "stream",
     "text": [
      "[[72343 19209]\n",
      " [18424 72956]]\n",
      "              precision    recall  f1-score   support\n",
      "\n",
      "           1       0.80      0.79      0.79     91552\n",
      "           2       0.79      0.80      0.79     91380\n",
      "\n",
      "    accuracy                           0.79    182932\n",
      "   macro avg       0.79      0.79      0.79    182932\n",
      "weighted avg       0.79      0.79      0.79    182932\n",
      "\n",
      "0.7942787483873789\n"
     ]
    }
   ],
   "source": [
    "from sklearn.metrics import classification_report, confusion_matrix, accuracy_score\n",
    "\n",
    "print(confusion_matrix(y_test,logistic_predictions))\n",
    "print(classification_report(y_test,logistic_predictions))\n",
    "print(accuracy_score(y_test, logistic_predictions))"
   ]
  },
  {
   "cell_type": "code",
   "execution_count": 21,
   "metadata": {
    "id": "QokmCMGE8e57"
   },
   "outputs": [],
   "source": [
    "from sklearn.naive_bayes import MultinomialNB\n",
    "MNB = MultinomialNB()\n",
    "\n",
    "MNB.fit(X_train, y_train)\n",
    "predicted = MNB.predict(X_test)"
   ]
  },
  {
   "cell_type": "code",
   "execution_count": 22,
   "metadata": {
    "colab": {
     "base_uri": "https://localhost:8080/"
    },
    "id": "oCQSvbcJ8j9k",
    "outputId": "a7913285-0092-477d-bce2-157d45afd528"
   },
   "outputs": [
    {
     "name": "stdout",
     "output_type": "stream",
     "text": [
      "[[66065 25487]\n",
      " [18658 72722]]\n",
      "              precision    recall  f1-score   support\n",
      "\n",
      "           1       0.78      0.72      0.75     91552\n",
      "           2       0.74      0.80      0.77     91380\n",
      "\n",
      "    accuracy                           0.76    182932\n",
      "   macro avg       0.76      0.76      0.76    182932\n",
      "weighted avg       0.76      0.76      0.76    182932\n",
      "\n",
      "0.7586808212887849\n"
     ]
    }
   ],
   "source": [
    "from sklearn.metrics import classification_report, confusion_matrix, accuracy_score\n",
    "\n",
    "print(confusion_matrix(y_test,predicted))\n",
    "print(classification_report(y_test,predicted))\n",
    "print(accuracy_score(y_test, predicted))"
   ]
  }
 ],
 "metadata": {
  "colab": {
   "name": "Depression_nlp_project.ipynb",
   "provenance": []
  },
  "kernelspec": {
   "display_name": "Python 3 (ipykernel)",
   "language": "python",
   "name": "python3"
  },
  "language_info": {
   "codemirror_mode": {
    "name": "ipython",
    "version": 3
   },
   "file_extension": ".py",
   "mimetype": "text/x-python",
   "name": "python",
   "nbconvert_exporter": "python",
   "pygments_lexer": "ipython3",
   "version": "3.9.7"
  }
 },
 "nbformat": 4,
 "nbformat_minor": 1
}
